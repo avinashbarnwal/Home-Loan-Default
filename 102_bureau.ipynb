{
 "cells": [
  {
   "cell_type": "code",
   "execution_count": 1,
   "metadata": {},
   "outputs": [],
   "source": [
    "import pandas as pd\n",
    "import numpy as np\n",
    "import gc\n",
    "\n",
    "buro_bal = pd.read_pickle(\"buro_bal.p\")\n",
    "bureau   = pd.read_pickle(\"bureau.p\")"
   ]
  },
  {
   "cell_type": "code",
   "execution_count": 2,
   "metadata": {},
   "outputs": [],
   "source": [
    "buro_bal = pd.merge(buro_bal,bureau[['SK_ID_BUREAU','SK_ID_CURR','CREDIT_TYPE_OVERALL','AMT_CREDIT_SUM','AMT_CREDIT_MAX_OVERDUE','AMT_CREDIT_SUM_DEBT','AMT_CREDIT_SUM_OVERDUE','CREDIT_TYPE']],on = 'SK_ID_BUREAU',how='inner')\n"
   ]
  },
  {
   "cell_type": "code",
   "execution_count": 3,
   "metadata": {},
   "outputs": [],
   "source": [
    "buro_bal['STATUS_FLOAT'] = buro_bal['STATUS'].apply(lambda x: x if x in ['1','2','3','4','5'] else -99)\n",
    "buro_bal['STATUS_FLOAT'] = buro_bal['STATUS_FLOAT'].astype(float)"
   ]
  },
  {
   "cell_type": "code",
   "execution_count": 4,
   "metadata": {},
   "outputs": [],
   "source": [
    "buro_bal['X_+'] = buro_bal['STATUS_FLOAT'].apply(lambda x : 1 if x >=1 else 0)\n",
    "buro_bal['30_+'] = buro_bal['STATUS_FLOAT'].apply(lambda x : 1 if x >=2 else 0)\n",
    "buro_bal['60_+'] = buro_bal['STATUS_FLOAT'].apply(lambda x : 1 if x >=3 else 0)\n",
    "buro_bal['90_+'] = buro_bal['STATUS_FLOAT'].apply(lambda x : 1 if x >=4 else 0)"
   ]
  },
  {
   "cell_type": "code",
   "execution_count": 5,
   "metadata": {},
   "outputs": [],
   "source": [
    "buro_bal_id = pd.DataFrame(buro_bal['SK_ID_BUREAU'].unique())\n",
    "buro_bal_id.columns = ['SK_ID_BUREAU']"
   ]
  },
  {
   "cell_type": "code",
   "execution_count": 6,
   "metadata": {},
   "outputs": [],
   "source": [
    "def freq_delq(filter_type1=None,Months_balance=None,delq=None,data=None,original_data=None,new_varname = None):\n",
    "    if (filter_type1 is not None):\n",
    "        temp_series = original_data[(original_data[\"CREDIT_TYPE_OVERALL\"] == filter_type1) & (original_data['MONTHS_BALANCE'] <= Months_balance)].groupby(['SK_ID_BUREAU'], sort=False)[delq].sum()\n",
    "        data_count  = pd.DataFrame()\n",
    "        data_count  = pd.DataFrame({'SK_ID_BUREAU':temp_series.index, new_varname:temp_series.values})\n",
    "        Summerized_data = data.merge(data_count,how=\"left\")\n",
    "    else :\n",
    "        temp_series = original_data[(original_data['MONTHS_BALANCE'] <= Months_balance)].groupby(['SK_ID_BUREAU'], sort=False)[delq].sum()\n",
    "        data_count  = pd.DataFrame()\n",
    "        data_count  = pd.DataFrame({'SK_ID_BUREAU':temp_series.index, new_varname:temp_series.values})\n",
    "        Summerized_data = data.merge(data_count,how=\"left\")   \n",
    "    return (Summerized_data)"
   ]
  },
  {
   "cell_type": "code",
   "execution_count": 7,
   "metadata": {},
   "outputs": [],
   "source": [
    "buro_bal_id = freq_delq(filter_type1 = 'Unsecured',Months_balance = 3,delq = 'X_+',data=buro_bal_id,original_data=buro_bal,new_varname='Unsecured_last_3m_X+')\n",
    "buro_bal_id = freq_delq(filter_type1 = 'Unsecured',Months_balance = 6,delq = 'X_+',data=buro_bal_id,original_data=buro_bal,new_varname='Unsecured_last_6m_X+')\n",
    "buro_bal_id = freq_delq(filter_type1 = 'Unsecured',Months_balance = 12,delq = 'X_+',data=buro_bal_id,original_data=buro_bal,new_varname='Unsecured_last_12m_X+')\n",
    "\n",
    "buro_bal_id = freq_delq(filter_type1 = 'Unsecured',Months_balance = 3,delq = '30_+',data=buro_bal_id,original_data=buro_bal,new_varname='Unsecured_last_3m_30+')\n",
    "buro_bal_id = freq_delq(filter_type1 = 'Unsecured',Months_balance = 6,delq = '30_+',data=buro_bal_id,original_data=buro_bal,new_varname='Unsecured_last_6m_30+')\n",
    "buro_bal_id = freq_delq(filter_type1 = 'Unsecured',Months_balance = 12,delq = '30_+',data=buro_bal_id,original_data=buro_bal,new_varname='Unsecured_last_12m_30+')\n",
    "\n",
    "buro_bal_id = freq_delq(filter_type1 = 'Unsecured',Months_balance = 3,delq = '60_+',data=buro_bal_id,original_data=buro_bal,new_varname='Unsecured_last_3m_60+')\n",
    "buro_bal_id = freq_delq(filter_type1 = 'Unsecured',Months_balance = 6,delq = '60_+',data=buro_bal_id,original_data=buro_bal,new_varname='Unsecured_last_6m_60+')\n",
    "buro_bal_id = freq_delq(filter_type1 = 'Unsecured',Months_balance = 12,delq = '60_+',data=buro_bal_id,original_data=buro_bal,new_varname='Unsecured_last_12m_60+')\n",
    "\n",
    "buro_bal_id = freq_delq(filter_type1 = 'Unsecured',Months_balance = 3,delq = '90_+',data=buro_bal_id,original_data=buro_bal,new_varname='Unsecured_last_3m_90+')\n",
    "buro_bal_id = freq_delq(filter_type1 = 'Unsecured',Months_balance = 6,delq = '90_+',data=buro_bal_id,original_data=buro_bal,new_varname='Unsecured_last_6m_90+')\n",
    "buro_bal_id = freq_delq(filter_type1 = 'Unsecured',Months_balance = 12,delq = '90_+',data=buro_bal_id,original_data=buro_bal,new_varname='Unsecured_last_12m_90+')\n"
   ]
  },
  {
   "cell_type": "code",
   "execution_count": 8,
   "metadata": {},
   "outputs": [],
   "source": [
    "buro_bal_id = freq_delq(filter_type1 = 'Secured',Months_balance = 3,delq = 'X_+',data=buro_bal_id,original_data=buro_bal,new_varname='Secured_last_3m_X+')\n",
    "buro_bal_id = freq_delq(filter_type1 = 'Secured',Months_balance = 6,delq = 'X_+',data=buro_bal_id,original_data=buro_bal,new_varname='Secured_last_6m_X+')\n",
    "buro_bal_id = freq_delq(filter_type1 = 'Secured',Months_balance = 12,delq = 'X_+',data=buro_bal_id,original_data=buro_bal,new_varname='Unsecured_last_12m_X+')\n",
    "\n",
    "buro_bal_id = freq_delq(filter_type1 = 'Secured',Months_balance = 3,delq = '30_+',data=buro_bal_id,original_data=buro_bal,new_varname='Secured_last_3m_30+')\n",
    "buro_bal_id = freq_delq(filter_type1 = 'Secured',Months_balance = 6,delq = '30_+',data=buro_bal_id,original_data=buro_bal,new_varname='Secured_last_6m_30+')\n",
    "buro_bal_id = freq_delq(filter_type1 = 'Secured',Months_balance = 12,delq = '30_+',data=buro_bal_id,original_data=buro_bal,new_varname='Secured_last_12m_30+')\n",
    "\n",
    "buro_bal_id = freq_delq(filter_type1 = 'Secured',Months_balance = 3,delq = '60_+',data=buro_bal_id,original_data=buro_bal,new_varname='Secured_last_3m_60+')\n",
    "buro_bal_id = freq_delq(filter_type1 = 'Secured',Months_balance = 6,delq = '60_+',data=buro_bal_id,original_data=buro_bal,new_varname='Secured_last_6m_60+')\n",
    "buro_bal_id = freq_delq(filter_type1 = 'Secured',Months_balance = 12,delq = '60_+',data=buro_bal_id,original_data=buro_bal,new_varname='Secured_last_12m_60+')\n",
    "\n",
    "buro_bal_id = freq_delq(filter_type1 = 'Secured',Months_balance = 3,delq = '90_+',data=buro_bal_id,original_data=buro_bal,new_varname='Secured_last_3m_90+')\n",
    "buro_bal_id = freq_delq(filter_type1 = 'Secured',Months_balance = 6,delq = '90_+',data=buro_bal_id,original_data=buro_bal,new_varname='Secured_last_6m_90+')\n",
    "buro_bal_id = freq_delq(filter_type1 = 'Secured',Months_balance = 12,delq = '90_+',data=buro_bal_id,original_data=buro_bal,new_varname='Secured_last_12m_90+')\n"
   ]
  },
  {
   "cell_type": "code",
   "execution_count": 9,
   "metadata": {},
   "outputs": [],
   "source": [
    "buro_bal_id = freq_delq(filter_type1 = 'HL',Months_balance = 3,delq = 'X_+',data=buro_bal_id,original_data=buro_bal,new_varname='HL_last_3m_X+')\n",
    "buro_bal_id = freq_delq(filter_type1 = 'HL',Months_balance = 6,delq = 'X_+',data=buro_bal_id,original_data=buro_bal,new_varname='HL_last_6m_X+')\n",
    "buro_bal_id = freq_delq(filter_type1 = 'HL',Months_balance = 12,delq = 'X_+',data=buro_bal_id,original_data=buro_bal,new_varname='HL_last_12m_X+')\n",
    "\n",
    "buro_bal_id = freq_delq(filter_type1 = 'HL',Months_balance = 3,delq = '30_+',data=buro_bal_id,original_data=buro_bal,new_varname='HL_last_3m_30+')\n",
    "buro_bal_id = freq_delq(filter_type1 = 'HL',Months_balance = 6,delq = '30_+',data=buro_bal_id,original_data=buro_bal,new_varname='HL_last_6m_30+')\n",
    "buro_bal_id = freq_delq(filter_type1 = 'HL',Months_balance = 12,delq = '30_+',data=buro_bal_id,original_data=buro_bal,new_varname='HL_last_12m_30+')\n",
    "\n",
    "buro_bal_id = freq_delq(filter_type1 = 'HL',Months_balance = 3,delq = '60_+',data=buro_bal_id,original_data=buro_bal,new_varname='HL_last_3m_60+')\n",
    "buro_bal_id = freq_delq(filter_type1 = 'HL',Months_balance = 6,delq = '60_+',data=buro_bal_id,original_data=buro_bal,new_varname='HL_last_6m_60+')\n",
    "buro_bal_id = freq_delq(filter_type1 = 'HL',Months_balance = 12,delq = '60_+',data=buro_bal_id,original_data=buro_bal,new_varname='HL_last_12m_60+')\n",
    "\n",
    "buro_bal_id = freq_delq(filter_type1 = 'HL',Months_balance = 3,delq = '90_+',data=buro_bal_id,original_data=buro_bal,new_varname='HL_last_3m_90+')\n",
    "buro_bal_id = freq_delq(filter_type1 = 'HL',Months_balance = 6,delq = '90_+',data=buro_bal_id,original_data=buro_bal,new_varname='HL_last_6m_90+')\n",
    "buro_bal_id = freq_delq(filter_type1 = 'HL',Months_balance = 12,delq = '90_+',data=buro_bal_id,original_data=buro_bal,new_varname='HL_last_12m_90+')\n"
   ]
  },
  {
   "cell_type": "code",
   "execution_count": 10,
   "metadata": {},
   "outputs": [],
   "source": [
    "buro_bal_id = freq_delq(Months_balance = 3,delq = 'X_+',data=buro_bal_id,original_data=buro_bal,new_varname='Total_last_3m_X+')\n",
    "buro_bal_id = freq_delq(Months_balance = 6,delq = 'X_+',data=buro_bal_id,original_data=buro_bal,new_varname='Total_last_6m_X+')\n",
    "buro_bal_id = freq_delq(Months_balance = 12,delq = 'X_+',data=buro_bal_id,original_data=buro_bal,new_varname='Total_last_12m_X+')\n",
    "\n",
    "buro_bal_id = freq_delq(Months_balance = 3,delq = '30_+',data=buro_bal_id,original_data=buro_bal,new_varname='Total_last_3m_30+')\n",
    "buro_bal_id = freq_delq(Months_balance = 6,delq = '30_+',data=buro_bal_id,original_data=buro_bal,new_varname='Total_last_6m_30+')\n",
    "buro_bal_id = freq_delq(Months_balance = 12,delq = '30_+',data=buro_bal_id,original_data=buro_bal,new_varname='Total_last_12m_30+')\n",
    "\n",
    "buro_bal_id = freq_delq(Months_balance = 3,delq = '60_+',data=buro_bal_id,original_data=buro_bal,new_varname='Total_last_3m_60+')\n",
    "buro_bal_id = freq_delq(Months_balance = 6,delq = '60_+',data=buro_bal_id,original_data=buro_bal,new_varname='Total_last_6m_60+')\n",
    "buro_bal_id = freq_delq(Months_balance = 12,delq = '60_+',data=buro_bal_id,original_data=buro_bal,new_varname='Total_last_12m_60+')\n",
    "\n",
    "buro_bal_id = freq_delq(Months_balance = 3,delq = '90_+',data=buro_bal_id,original_data=buro_bal,new_varname='Total_last_3m_90+')\n",
    "buro_bal_id = freq_delq(Months_balance = 6,delq = '90_+',data=buro_bal_id,original_data=buro_bal,new_varname='Total_last_6m_90+')\n",
    "buro_bal_id = freq_delq(Months_balance = 12,delq = '90_+',data=buro_bal_id,original_data=buro_bal,new_varname='Total_last_12m_90+')\n"
   ]
  },
  {
   "cell_type": "code",
   "execution_count": 11,
   "metadata": {},
   "outputs": [],
   "source": [
    "column_names = buro_bal_id.columns\n",
    "\n",
    "for col in column_names:\n",
    "    buro_bal_id[col] = buro_bal_id[col].fillna(0)"
   ]
  },
  {
   "cell_type": "code",
   "execution_count": 12,
   "metadata": {},
   "outputs": [],
   "source": [
    "buro_bal_curr_id = buro_bal.drop_duplicates(['SK_ID_CURR','SK_ID_BUREAU'])[['SK_ID_CURR','SK_ID_BUREAU']]"
   ]
  },
  {
   "cell_type": "code",
   "execution_count": 13,
   "metadata": {},
   "outputs": [],
   "source": [
    "buro_bal_id = pd.merge(buro_bal_id,buro_bal_curr_id,how=\"left\")\n",
    "cols = [col for col in buro_bal_id if \"m_\" in col]"
   ]
  },
  {
   "cell_type": "code",
   "execution_count": 14,
   "metadata": {},
   "outputs": [],
   "source": [
    "buro_bal_curr = buro_bal_curr_id.drop_duplicates(['SK_ID_CURR'])"
   ]
  },
  {
   "cell_type": "code",
   "execution_count": null,
   "metadata": {},
   "outputs": [],
   "source": [
    "for col in cols:\n",
    "    temp = buro_bal_id.groupby(['SK_ID_CURR'])[col].mean().reset_index(name=col)\n",
    "    buro_bal_curr = pd.merge(buro_bal_curr,temp,how='left')"
   ]
  },
  {
   "cell_type": "code",
   "execution_count": null,
   "metadata": {},
   "outputs": [],
   "source": [
    "buro_bal_curr.to_pickle(\"bureau_3.p\")"
   ]
  }
 ],
 "metadata": {
  "kernelspec": {
   "display_name": "Python 3",
   "language": "python",
   "name": "python3"
  },
  "language_info": {
   "codemirror_mode": {
    "name": "ipython",
    "version": 3
   },
   "file_extension": ".py",
   "mimetype": "text/x-python",
   "name": "python",
   "nbconvert_exporter": "python",
   "pygments_lexer": "ipython3",
   "version": "3.6.5"
  }
 },
 "nbformat": 4,
 "nbformat_minor": 2
}
