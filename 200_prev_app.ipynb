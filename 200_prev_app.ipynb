{
 "cells": [
  {
   "cell_type": "code",
   "execution_count": 3,
   "metadata": {},
   "outputs": [],
   "source": [
    "import pandas as pd\n",
    "import gc\n",
    "\n",
    "prev_app = pd.read_csv(\"input/previous_application.csv\")\n",
    "\n",
    "prev_app['DAYS_FIRST_DRAWING']        = prev_app['DAYS_FIRST_DRAWING'].fillna(365.243)\n",
    "prev_app['DAYS_LAST_DUE_1ST_VERSION'] = prev_app['DAYS_FIRST_DRAWING'].fillna(365.243)\n",
    "prev_app['DAYS_TERMINATION']          = prev_app['DAYS_FIRST_DRAWING'].fillna(365.243)\n",
    "prev_app['DAYS_LAST_DUE']             = prev_app['DAYS_FIRST_DRAWING'].fillna(365.243)\n",
    "# Add feature: value ask / value received percentage\n",
    "prev_app['APP_CREDIT_PERC']           = prev_app['AMT_APPLICATION'] / prev_app['AMT_CREDIT']"
   ]
  },
  {
   "cell_type": "code",
   "execution_count": 4,
   "metadata": {},
   "outputs": [],
   "source": [
    "old_columns         = prev_app.columns\n",
    "numerical_columns   = [col for col in prev_app.columns if prev_app[col].dtype != 'object']\n",
    "categorical_columns = [col for col in prev_app.columns if prev_app[col].dtype == 'object']\n",
    "prev_app            = pd.get_dummies(prev_app,columns=categorical_columns)\n",
    "new_columns         = prev_app.columns\n",
    "incremental         = set(new_columns) - set(old_columns)\n",
    "incremental         = list(incremental)\n",
    "cat_aggregations = {}\n",
    "for cat in incremental:\n",
    "    cat_aggregations[cat] = ['mean']\n",
    "\n",
    "num_aggregations = {\n",
    "        'AMT_ANNUITY': ['min', 'max', 'mean'],\n",
    "        'AMT_APPLICATION': ['min', 'max', 'mean'],\n",
    "        'AMT_CREDIT': ['min', 'max', 'mean'],\n",
    "        'APP_CREDIT_PERC': ['min', 'max', 'mean', 'var'],\n",
    "        'AMT_DOWN_PAYMENT': ['min', 'max', 'mean'],\n",
    "        'AMT_GOODS_PRICE': ['min', 'max', 'mean'],\n",
    "        'HOUR_APPR_PROCESS_START': ['min', 'max', 'mean'],\n",
    "        'RATE_DOWN_PAYMENT': ['min', 'max', 'mean'],\n",
    "        'DAYS_DECISION': ['min', 'max', 'mean'],\n",
    "        'CNT_PAYMENT': ['mean', 'sum']\n",
    "        }\n",
    "\n",
    "prev_agg            = prev_app.groupby('SK_ID_CURR').agg({**num_aggregations,**cat_aggregations})\n",
    "prev_agg.columns    = pd.Index(['PREV_' + e[0] + \"_\" + e[1].upper() for e in prev_agg.columns.tolist()])\n",
    "prev_agg.reset_index(inplace=True)\n",
    "\n",
    "approved             = prev_app[prev_app['NAME_CONTRACT_STATUS_Approved'] == 1]\n",
    "approved_agg         = approved.groupby('SK_ID_CURR').agg(num_aggregations)\n",
    "approved_agg.columns = pd.Index(['APPROVED_' + e[0] + \"_\" + e[1].upper() for e in approved_agg.columns.tolist()])\n",
    "approved_agg.reset_index(inplace=True)\n",
    "prev_agg             = pd.merge(prev_agg,approved_agg, how='left', on='SK_ID_CURR')\n",
    "\n",
    "\n",
    "# Previous Applications: Refused Applications - only numerical features\n",
    "refused = prev_app[prev_app['NAME_CONTRACT_STATUS_Refused'] == 1]\n",
    "refused_agg = refused.groupby('SK_ID_CURR').agg(num_aggregations)\n",
    "refused_agg.columns = pd.Index(['REFUSED_' + e[0] + \"_\" + e[1].upper() for e in refused_agg.columns.tolist()])\n",
    "refused_agg.reset_index(inplace=True)\n",
    "prev_agg = pd.merge(prev_agg,refused_agg, how='left', on='SK_ID_CURR')"
   ]
  },
  {
   "cell_type": "code",
   "execution_count": 5,
   "metadata": {},
   "outputs": [
    {
     "data": {
      "text/plain": [
       "1917"
      ]
     },
     "execution_count": 5,
     "metadata": {},
     "output_type": "execute_result"
    }
   ],
   "source": [
    "prev_agg.to_pickle(\"prev_data.p\")\n",
    "del refused, refused_agg, approved, approved_agg, prev_app\n",
    "gc.collect()"
   ]
  }
 ],
 "metadata": {
  "kernelspec": {
   "display_name": "Python 3",
   "language": "python",
   "name": "python3"
  },
  "language_info": {
   "codemirror_mode": {
    "name": "ipython",
    "version": 3
   },
   "file_extension": ".py",
   "mimetype": "text/x-python",
   "name": "python",
   "nbconvert_exporter": "python",
   "pygments_lexer": "ipython3",
   "version": "3.6.5"
  }
 },
 "nbformat": 4,
 "nbformat_minor": 2
}
