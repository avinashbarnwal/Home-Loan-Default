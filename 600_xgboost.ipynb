{
 "cells": [
  {
   "cell_type": "code",
   "execution_count": 30,
   "metadata": {},
   "outputs": [],
   "source": [
    "import pandas as pd\n",
    "from sklearn.model_selection import StratifiedKFold\n",
    "from sklearn.metrics import roc_curve, auc,recall_score,precision_score,accuracy_score,roc_auc_score\n",
    "from matplotlib import pyplot as plt\n",
    "import gc"
   ]
  },
  {
   "cell_type": "code",
   "execution_count": 35,
   "metadata": {},
   "outputs": [],
   "source": [
    "application_train   = pd.read_pickle('application_train.p')\n",
    "bureau_1            = pd.read_pickle('bureau_1.p')\n",
    "bureau_2            = pd.read_pickle('bureau_2.p')\n",
    "bureau_3            = pd.read_pickle('bureau_3.p')\n",
    "bureau_4            = pd.read_pickle('bureau_4.p')\n",
    "prev_data           = pd.read_pickle('prev_data.p')\n",
    "pos_data            = pd.read_pickle(\"pos_data.p\")\n",
    "ins_data            = pd.read_pickle(\"ins_data.p\")\n",
    "cc_data             = pd.read_pickle(\"cc_data.p\")\n",
    "application_test    = pd.read_pickle('application_test.p')"
   ]
  },
  {
   "cell_type": "code",
   "execution_count": 41,
   "metadata": {},
   "outputs": [],
   "source": [
    "application_train = pd.merge(application_train,bureau_1,on = 'SK_ID_CURR',how='left')\n",
    "application_train = pd.merge(application_train,bureau_2,on = 'SK_ID_CURR',how='left')\n",
    "application_train = pd.merge(application_train,bureau_3,on = 'SK_ID_CURR',how='left')\n",
    "application_train = pd.merge(application_train,bureau_4,on = 'SK_ID_CURR',how='left')\n",
    "application_train = pd.merge(application_train,prev_data,on = 'SK_ID_CURR',how='left')\n",
    "application_train = pd.merge(application_train,pos_data,on = 'SK_ID_CURR',how='left')\n",
    "application_train = pd.merge(application_train,ins_data,on = 'SK_ID_CURR',how='left')\n",
    "application_train = pd.merge(application_train,cc_data,on = 'SK_ID_CURR',how='left')\n",
    "\n",
    "application_test = pd.merge(application_test,bureau_1,on = 'SK_ID_CURR',how='left')\n",
    "application_test = pd.merge(application_test,bureau_2,on = 'SK_ID_CURR',how='left')\n",
    "application_test = pd.merge(application_test,bureau_3,on = 'SK_ID_CURR',how='left')\n",
    "application_test = pd.merge(application_test,bureau_4,on = 'SK_ID_CURR',how='left')\n",
    "application_test = pd.merge(application_test,prev_data,on = 'SK_ID_CURR',how='left')\n",
    "application_test = pd.merge(application_test,pos_data,on = 'SK_ID_CURR',how='left')\n",
    "application_test = pd.merge(application_test,ins_data,on = 'SK_ID_CURR',how='left')\n",
    "application_test = pd.merge(application_test,cc_data,on = 'SK_ID_CURR',how='left')"
   ]
  },
  {
   "cell_type": "code",
   "execution_count": 43,
   "metadata": {},
   "outputs": [
    {
     "data": {
      "text/plain": [
       "13364"
      ]
     },
     "execution_count": 43,
     "metadata": {},
     "output_type": "execute_result"
    }
   ],
   "source": [
    "del bureau_1,bureau_2,bureau_3,bureau_4,prev_data,pos_data,ins_data,cc_data\n",
    "gc.collect()"
   ]
  },
  {
   "cell_type": "code",
   "execution_count": 49,
   "metadata": {},
   "outputs": [
    {
     "name": "stdout",
     "output_type": "stream",
     "text": [
      "#==== print param ======\n",
      "DATE: 812_1\n",
      "seed: 71\n"
     ]
    }
   ],
   "source": [
    "import warnings\n",
    "warnings.filterwarnings(\"ignore\")\n",
    "import pandas as pd\n",
    "import numpy as np\n",
    "import gc\n",
    "import xgboost as xgb\n",
    "\n",
    "# setting\n",
    "DATE = '812_1'\n",
    "LOOP = 2\n",
    "ESR = 10\n",
    "\n",
    "#seed = np.random.randint(99999)\n",
    "seed = 71\n",
    "\n",
    "np.random.seed(seed)\n",
    "\n",
    "valid_size = 0.1\n",
    "\n",
    "\n",
    "# XGB param\n",
    "nround = 200\n",
    "#nround = 10\n",
    "\n",
    "param = {'max_depth':10, \n",
    "         'n_estimators':10000,\n",
    "         'eta':0.02,\n",
    "         'colsample_bytree':0.4,\n",
    "         'subsample':0.75,\n",
    "         'silent':1,\n",
    "         'nthread':27,\n",
    "         'eval_metric':'logloss',\n",
    "         'objective':'binary:logistic',\n",
    "         'tree_method':'hist'\n",
    "         }\n",
    "\n",
    "print(\"\"\"#==== print param ======\"\"\")\n",
    "print('DATE:', DATE)\n",
    "print('seed:', seed)\n"
   ]
  },
  {
   "cell_type": "code",
   "execution_count": 45,
   "metadata": {},
   "outputs": [],
   "source": [
    "y_train = application_train['TARGET']\n",
    "X_train = application_train.drop('TARGET', axis=1)\n",
    "valid_size = 0.2\n",
    "train_user = X_train['SK_ID_CURR']"
   ]
  },
  {
   "cell_type": "code",
   "execution_count": 6,
   "metadata": {},
   "outputs": [],
   "source": [
    "def  split_build_validsplit_b():    \n",
    "    train_user['is_valid'] = np.random.choice([0,1], size=len(train_user), \n",
    "                                              p=[1-valid_size, valid_size])\n",
    "    valid_n = train_user['is_valid'].sum()\n",
    "    build_n = (train_user.shape[0] - valid_n)\n",
    "    \n",
    "    print('build user:{}, valid user:{}'.format(build_n, valid_n))\n",
    "    valid_user = train_user[train_user['is_valid']==1].email\n",
    "    is_valid = X_train.email.isin(valid_user)\n",
    "    \n",
    "    dbuild = xgb.DMatrix(X_train[~is_valid].drop('email', axis=1), y_train[~is_valid])\n",
    "    dvalid = xgb.DMatrix(X_train[is_valid].drop('email', axis=1), label=y_train[is_valid])\n",
    "    watchlist = [(dbuild, 'build'),(dvalid, 'valid')]\n",
    "    \n",
    "    print('FINAL SHAPE')\n",
    "    print('dbuild.shape:{}  dvalid.shape:{}\\n'.format((dbuild.num_row(), dbuild.num_col()),\n",
    "                                                      (dvalid.num_row(), dvalid.num_col())))\n",
    "\n",
    "    return dbuild, dvalid, watchlist"
   ]
  },
  {
   "cell_type": "code",
   "execution_count": 46,
   "metadata": {},
   "outputs": [],
   "source": [
    "def f(x):\n",
    "    if x >= threshold:\n",
    "        val = 1\n",
    "    else:\n",
    "        val =0\n",
    "    return val"
   ]
  },
  {
   "cell_type": "code",
   "execution_count": 47,
   "metadata": {},
   "outputs": [],
   "source": [
    "def Find_Optimal_Cutoff(target, predicted):\n",
    "    \n",
    "    \"\"\" Find the optimal probability cutoff point for a classification model related to event rate\n",
    "    Parameters\n",
    "    ----------\n",
    "    target : Matrix with dependent or target data, where rows are observations\n",
    "    predicted : Matrix with predicted data, where rows are observations\n",
    "    Returns\n",
    "    -------     \n",
    "    list type, with optimal cutoff value\n",
    "    \"\"\"\n",
    "    fpr, tpr, threshold = roc_curve(target, predicted)\n",
    "    i = np.arange(len(tpr)) \n",
    "    roc = pd.DataFrame({'tf' : pd.Series(tpr-(1-fpr), index=i), 'threshold' : pd.Series(threshold, index=i)})\n",
    "    roc_t = roc.ix[(roc.tf-0).abs().argsort()[:1]]\n",
    "\n",
    "    return list(roc_t['threshold'])"
   ]
  },
  {
   "cell_type": "code",
   "execution_count": null,
   "metadata": {},
   "outputs": [
    {
     "name": "stdout",
     "output_type": "stream",
     "text": [
      "[0]\tbuild-logloss:0.6788\tvalid-logloss:0.67899\n",
      "Multiple eval metrics have been passed: 'valid-logloss' will be used for early stopping.\n",
      "\n",
      "Will train until valid-logloss hasn't improved in 10 rounds.\n",
      "[5]\tbuild-logloss:0.61484\tvalid-logloss:0.616066\n",
      "[10]\tbuild-logloss:0.561629\tvalid-logloss:0.563905\n",
      "[15]\tbuild-logloss:0.51679\tvalid-logloss:0.520108\n",
      "[20]\tbuild-logloss:0.47877\tvalid-logloss:0.483074\n",
      "[25]\tbuild-logloss:0.446214\tvalid-logloss:0.451618\n",
      "[30]\tbuild-logloss:0.418238\tvalid-logloss:0.424782\n",
      "[35]\tbuild-logloss:0.394073\tvalid-logloss:0.401742\n",
      "[40]\tbuild-logloss:0.373079\tvalid-logloss:0.381924\n",
      "[45]\tbuild-logloss:0.354729\tvalid-logloss:0.364807\n",
      "[50]\tbuild-logloss:0.338785\tvalid-logloss:0.350026\n",
      "[55]\tbuild-logloss:0.324735\tvalid-logloss:0.337221\n",
      "[60]\tbuild-logloss:0.312314\tvalid-logloss:0.326104\n",
      "[65]\tbuild-logloss:0.301376\tvalid-logloss:0.316444\n",
      "[70]\tbuild-logloss:0.291696\tvalid-logloss:0.308086\n",
      "[75]\tbuild-logloss:0.283014\tvalid-logloss:0.300791\n",
      "[80]\tbuild-logloss:0.275346\tvalid-logloss:0.294452\n",
      "[85]\tbuild-logloss:0.268289\tvalid-logloss:0.288892\n",
      "[90]\tbuild-logloss:0.261936\tvalid-logloss:0.284031\n",
      "[95]\tbuild-logloss:0.256314\tvalid-logloss:0.279806\n",
      "[100]\tbuild-logloss:0.251262\tvalid-logloss:0.276033\n",
      "[105]\tbuild-logloss:0.246511\tvalid-logloss:0.272784\n",
      "[110]\tbuild-logloss:0.242259\tvalid-logloss:0.269952\n",
      "[115]\tbuild-logloss:0.238369\tvalid-logloss:0.267486\n",
      "[120]\tbuild-logloss:0.234691\tvalid-logloss:0.265298\n",
      "[125]\tbuild-logloss:0.231382\tvalid-logloss:0.263316\n",
      "[130]\tbuild-logloss:0.228305\tvalid-logloss:0.261585\n",
      "[135]\tbuild-logloss:0.225373\tvalid-logloss:0.260051\n",
      "[140]\tbuild-logloss:0.222594\tvalid-logloss:0.258707\n",
      "[145]\tbuild-logloss:0.219707\tvalid-logloss:0.257494\n",
      "[150]\tbuild-logloss:0.21725\tvalid-logloss:0.256412\n",
      "[155]\tbuild-logloss:0.21483\tvalid-logloss:0.255471\n",
      "[160]\tbuild-logloss:0.212613\tvalid-logloss:0.254638\n",
      "[165]\tbuild-logloss:0.210606\tvalid-logloss:0.253822\n",
      "[170]\tbuild-logloss:0.208536\tvalid-logloss:0.253104\n",
      "[175]\tbuild-logloss:0.206557\tvalid-logloss:0.252453\n",
      "[180]\tbuild-logloss:0.20457\tvalid-logloss:0.251865\n",
      "[185]\tbuild-logloss:0.202797\tvalid-logloss:0.251325\n",
      "[190]\tbuild-logloss:0.201045\tvalid-logloss:0.250817\n",
      "[195]\tbuild-logloss:0.199358\tvalid-logloss:0.250383\n",
      "[199]\tbuild-logloss:0.197965\tvalid-logloss:0.250038\n"
     ]
    },
    {
     "data": {
      "image/png": "[encoded data removed]",
      "text/plain": [
       "<matplotlib.figure.Figure at 0x117952198>"
      ]
     },
     "metadata": {},
     "output_type": "display_data"
    },
    {
     "name": "stdout",
     "output_type": "stream",
     "text": [
      "precision score: 0.165744\n",
      "recall score: 0.693454\n",
      "accuracy score: 0.693478\n"
     ]
    }
   ],
   "source": [
    "skf        = StratifiedKFold(n_splits=5)\n",
    "sum        = 0\n",
    "roc_auc    = []\n",
    "precision  = []\n",
    "recall     = []\n",
    "accuracy   = []\n",
    "\n",
    "for train, test in skf.split(X_train,y_train):\n",
    "    \n",
    "    X_train_subset = X_train.iloc[train]\n",
    "    X_test_subset = X_train.iloc[test]\n",
    "    \n",
    "    y_train_subset = y_train.iloc[train]\n",
    "    y_test_subset = y_train.iloc[test]\n",
    "    \n",
    "    dbuild = xgb.DMatrix(X_train_subset.drop('SK_ID_CURR', axis=1), y_train_subset)\n",
    "    dvalid = xgb.DMatrix(X_test_subset.drop('SK_ID_CURR', axis=1), label=y_test_subset)\n",
    "    watchlist = [(dbuild, 'build'),(dvalid, 'valid')]\n",
    "    \n",
    "    model = xgb.train(param, dbuild, nround, watchlist,\n",
    "                      early_stopping_rounds=ESR, verbose_eval=5)\n",
    "    #models.append(model)\n",
    "    #model.save_model('output/model/{}/xgb_item_{}.model'.format(DATE, i))\n",
    "    # VALID\n",
    "    valid_yhat = model.predict(dvalid)\n",
    "    \n",
    "    fpr, tpr, threshold = roc_curve(y_test_subset.values, valid_yhat)\n",
    "    roc_auc_iter = auc(fpr, tpr)\n",
    "    roc_auc.append(roc_auc_iter)\n",
    "    #xgb.plot_importance(gbm)\n",
    "    #plt.show()\n",
    "    plt.figure()\n",
    "    lw = 2\n",
    "    plt.plot(fpr, tpr, color='darkorange',\n",
    "             lw=lw, label='ROC curve (area = %0.2f)' % roc_auc_iter)\n",
    "    plt.plot([0, 1], [0, 1], color='navy', lw=lw, linestyle='--')\n",
    "    plt.xlim([-0.02, 1.0])\n",
    "    plt.ylim([0.0, 1.05])\n",
    "    plt.xlabel('False Positive Rate')\n",
    "    plt.ylabel('True Positive Rate')\n",
    "    plt.title('ROC curve')\n",
    "    plt.legend(loc=\"lower right\")\n",
    "    plt.show()\n",
    "    threshold     = Find_Optimal_Cutoff(y_test_subset.values,valid_yhat)\n",
    "    threshold     = threshold[0]\n",
    "    y_predicted   = list(map(f,list(valid_yhat)))\n",
    "    threshhold    = Find_Optimal_Cutoff(y_test_subset.values,y_predicted)\n",
    "    \n",
    "    score         = precision_score(y_test_subset.values, y_predicted)\n",
    "    print('precision score: {:.6f}'.format(score))\n",
    "    precision.append(score)\n",
    "\n",
    "    score = recall_score(y_test_subset.values, y_predicted)\n",
    "    print('recall score: {:.6f}'.format(score))\n",
    "    recall.append(score)\n",
    "    \n",
    "    score = accuracy_score(y_test_subset.values, y_predicted)\n",
    "    print('accuracy score: {:.6f}'.format(score))\n",
    "    accuracy.append(score)"
   ]
  },
  {
   "cell_type": "code",
   "execution_count": 132,
   "metadata": {},
   "outputs": [],
   "source": [
    "#col = list(application_test.columns.values)\n",
    "#for c in col:\n",
    "#    application_test[c] = application_test[c].fillna(0)"
   ]
  },
  {
   "cell_type": "code",
   "execution_count": 10,
   "metadata": {},
   "outputs": [],
   "source": [
    "application_test['CODE_GENDER_XNA'] = 0\n",
    "application_test['NAME_INCOME_TYPE_Maternity leave'] = 0\n",
    "application_test['NAME_FAMILY_STATUS_Unknown'] = 0"
   ]
  },
  {
   "cell_type": "code",
   "execution_count": 11,
   "metadata": {},
   "outputs": [],
   "source": [
    "f_names = model.feature_names"
   ]
  },
  {
   "cell_type": "code",
   "execution_count": 12,
   "metadata": {},
   "outputs": [],
   "source": [
    "test_data = application_test[f_names]"
   ]
  },
  {
   "cell_type": "code",
   "execution_count": 15,
   "metadata": {},
   "outputs": [],
   "source": [
    "dtest = xgb.DMatrix(test_data)\n",
    "application_test['TARGET'] = model.predict(dtest)"
   ]
  },
  {
   "cell_type": "code",
   "execution_count": 16,
   "metadata": {},
   "outputs": [],
   "source": [
    "sample_submission = application_test[['SK_ID_CURR','TARGET']]"
   ]
  },
  {
   "cell_type": "code",
   "execution_count": 17,
   "metadata": {},
   "outputs": [],
   "source": [
    "sample_submission.to_csv(\"submission_5.csv\")"
   ]
  },
  {
   "cell_type": "code",
   "execution_count": 28,
   "metadata": {},
   "outputs": [],
   "source": [
    "from lightgbm import LGBMClassifier\n",
    "\n",
    "def kfold_lightgbm(train_df, test_df,num_folds, stratified = True, debug= False,submission_file_name=\"New\"):\n",
    "    # Divide in training/validation and test data\n",
    "    print(\"Starting LightGBM. Train shape: {}, test shape: {}\".format(train_df.shape, test_df.shape))\n",
    "    #del df\n",
    "    #gc.collect()\n",
    "    # Cross validation model\n",
    "    if stratified:\n",
    "        folds = StratifiedKFold(n_splits= num_folds, shuffle=True, random_state=1001)\n",
    "    else:\n",
    "        folds = KFold(n_splits= num_folds, shuffle=True, random_state=1001)\n",
    "    # Create arrays and dataframes to store results\n",
    "    oof_preds = np.zeros(train_df.shape[0])\n",
    "    sub_preds = np.zeros(test_df.shape[0])\n",
    "    feature_importance_df = pd.DataFrame()\n",
    "    feats = [f for f in train_df.columns if f not in ['TARGET','SK_ID_CURR','SK_ID_BUREAU','SK_ID_PREV','index']]\n",
    "    \n",
    "    for n_fold, (train_idx, valid_idx) in enumerate(folds.split(train_df[feats], train_df['TARGET'])):\n",
    "        train_x, train_y = train_df[feats].iloc[train_idx], train_df['TARGET'].iloc[train_idx]\n",
    "        valid_x, valid_y = train_df[feats].iloc[valid_idx], train_df['TARGET'].iloc[valid_idx]\n",
    "\n",
    "        # LightGBM parameters found by Bayesian optimization\n",
    "        clf = LGBMClassifier(\n",
    "            nthread=10,\n",
    "            n_estimators=20000,\n",
    "            learning_rate=0.02,\n",
    "            num_leaves=34,\n",
    "            colsample_bytree=0.9497036,\n",
    "            subsample=0.8715623,\n",
    "            max_depth=8,\n",
    "            reg_alpha=0.041545473,\n",
    "            reg_lambda=0.0735294,\n",
    "            min_split_gain=0.0222415,\n",
    "            min_child_weight=39.3259775,\n",
    "            silent=-1,\n",
    "            verbose=-1, )\n",
    "\n",
    "        clf.fit(train_x, train_y, eval_set=[(train_x, train_y), (valid_x, valid_y)], \n",
    "            eval_metric= 'auc', verbose= 100, early_stopping_rounds= 200)\n",
    "\n",
    "        oof_preds[valid_idx] = clf.predict_proba(valid_x, num_iteration=clf.best_iteration_)[:, 1]\n",
    "        sub_preds += clf.predict_proba(test_df[feats], num_iteration=clf.best_iteration_)[:, 1] / folds.n_splits\n",
    "\n",
    "        fold_importance_df = pd.DataFrame()\n",
    "        fold_importance_df[\"feature\"] = feats\n",
    "        fold_importance_df[\"importance\"] = clf.feature_importances_\n",
    "        fold_importance_df[\"fold\"] = n_fold + 1\n",
    "        feature_importance_df = pd.concat([feature_importance_df, fold_importance_df], axis=0)\n",
    "        print('Fold %2d AUC : %.6f' % (n_fold + 1, roc_auc_score(valid_y, oof_preds[valid_idx])))\n",
    "        del clf, train_x, train_y, valid_x, valid_y\n",
    "        gc.collect()\n",
    "\n",
    "    print('Full AUC score %.6f' % roc_auc_score(train_df['TARGET'], oof_preds))\n",
    "    # Write submission file and plot feature importance\n",
    "    if not debug:\n",
    "        test_df['TARGET'] = sub_preds\n",
    "        test_df[['SK_ID_CURR', 'TARGET']].to_csv(submission_file_name, index= False)\n",
    "    display_importances(feature_importance_df)\n",
    "    return"
   ]
  },
  {
   "cell_type": "code",
   "execution_count": 31,
   "metadata": {},
   "outputs": [
    {
     "name": "stdout",
     "output_type": "stream",
     "text": [
      "Starting LightGBM. Train shape: (307511, 164), test shape: (48744, 165)\n",
      "Training until validation scores don't improve for 200 rounds.\n",
      "[100]\ttraining's auc: 0.710674\tvalid_1's auc: 0.691418\n",
      "[200]\ttraining's auc: 0.72793\tvalid_1's auc: 0.70233\n",
      "[300]\ttraining's auc: 0.739134\tvalid_1's auc: 0.70716\n",
      "[400]\ttraining's auc: 0.747932\tvalid_1's auc: 0.710187\n",
      "[500]\ttraining's auc: 0.754826\tvalid_1's auc: 0.711196\n",
      "[600]\ttraining's auc: 0.761029\tvalid_1's auc: 0.711715\n"
     ]
    },
    {
     "ename": "KeyboardInterrupt",
     "evalue": "",
     "output_type": "error",
     "traceback": [
      "\u001b[0;31m---------------------------------------------------------------------------\u001b[0m",
      "\u001b[0;31mKeyboardInterrupt\u001b[0m                         Traceback (most recent call last)",
      "\u001b[0;32m<ipython-input-31-8777cb12e1d9>\u001b[0m in \u001b[0;36m<module>\u001b[0;34m()\u001b[0m\n\u001b[0;32m----> 1\u001b[0;31m \u001b[0mkfold_lightgbm\u001b[0m\u001b[0;34m(\u001b[0m\u001b[0mapplication_train\u001b[0m\u001b[0;34m,\u001b[0m\u001b[0mapplication_test\u001b[0m\u001b[0;34m,\u001b[0m\u001b[0mnum_folds\u001b[0m\u001b[0;34m=\u001b[0m\u001b[0;36m5\u001b[0m\u001b[0;34m,\u001b[0m\u001b[0msubmission_file_name\u001b[0m \u001b[0;34m=\u001b[0m \u001b[0;34m\"submission6.csv\"\u001b[0m\u001b[0;34m)\u001b[0m\u001b[0;34m\u001b[0m\u001b[0m\n\u001b[0m",
      "\u001b[0;32m<ipython-input-28-84777c22c6c9>\u001b[0m in \u001b[0;36mkfold_lightgbm\u001b[0;34m(train_df, test_df, num_folds, stratified, debug, submission_file_name)\u001b[0m\n\u001b[1;32m     38\u001b[0m \u001b[0;34m\u001b[0m\u001b[0m\n\u001b[1;32m     39\u001b[0m         clf.fit(train_x, train_y, eval_set=[(train_x, train_y), (valid_x, valid_y)], \n\u001b[0;32m---> 40\u001b[0;31m             eval_metric= 'auc', verbose= 100, early_stopping_rounds= 200)\n\u001b[0m\u001b[1;32m     41\u001b[0m \u001b[0;34m\u001b[0m\u001b[0m\n\u001b[1;32m     42\u001b[0m         \u001b[0moof_preds\u001b[0m\u001b[0;34m[\u001b[0m\u001b[0mvalid_idx\u001b[0m\u001b[0;34m]\u001b[0m \u001b[0;34m=\u001b[0m \u001b[0mclf\u001b[0m\u001b[0;34m.\u001b[0m\u001b[0mpredict_proba\u001b[0m\u001b[0;34m(\u001b[0m\u001b[0mvalid_x\u001b[0m\u001b[0;34m,\u001b[0m \u001b[0mnum_iteration\u001b[0m\u001b[0;34m=\u001b[0m\u001b[0mclf\u001b[0m\u001b[0;34m.\u001b[0m\u001b[0mbest_iteration_\u001b[0m\u001b[0;34m)\u001b[0m\u001b[0;34m[\u001b[0m\u001b[0;34m:\u001b[0m\u001b[0;34m,\u001b[0m \u001b[0;36m1\u001b[0m\u001b[0;34m]\u001b[0m\u001b[0;34m\u001b[0m\u001b[0m\n",
      "\u001b[0;32m/usr/local/lib/python3.6/site-packages/lightgbm/sklearn.py\u001b[0m in \u001b[0;36mfit\u001b[0;34m(self, X, y, sample_weight, init_score, eval_set, eval_names, eval_sample_weight, eval_class_weight, eval_init_score, eval_metric, early_stopping_rounds, verbose, feature_name, categorical_feature, callbacks)\u001b[0m\n\u001b[1;32m    701\u001b[0m                                         \u001b[0mverbose\u001b[0m\u001b[0;34m=\u001b[0m\u001b[0mverbose\u001b[0m\u001b[0;34m,\u001b[0m \u001b[0mfeature_name\u001b[0m\u001b[0;34m=\u001b[0m\u001b[0mfeature_name\u001b[0m\u001b[0;34m,\u001b[0m\u001b[0;34m\u001b[0m\u001b[0m\n\u001b[1;32m    702\u001b[0m                                         \u001b[0mcategorical_feature\u001b[0m\u001b[0;34m=\u001b[0m\u001b[0mcategorical_feature\u001b[0m\u001b[0;34m,\u001b[0m\u001b[0;34m\u001b[0m\u001b[0m\n\u001b[0;32m--> 703\u001b[0;31m                                         callbacks=callbacks)\n\u001b[0m\u001b[1;32m    704\u001b[0m         \u001b[0;32mreturn\u001b[0m \u001b[0mself\u001b[0m\u001b[0;34m\u001b[0m\u001b[0m\n\u001b[1;32m    705\u001b[0m \u001b[0;34m\u001b[0m\u001b[0m\n",
      "\u001b[0;32m/usr/local/lib/python3.6/site-packages/lightgbm/sklearn.py\u001b[0m in \u001b[0;36mfit\u001b[0;34m(self, X, y, sample_weight, init_score, group, eval_set, eval_names, eval_sample_weight, eval_class_weight, eval_init_score, eval_group, eval_metric, early_stopping_rounds, verbose, feature_name, categorical_feature, callbacks)\u001b[0m\n\u001b[1;32m    478\u001b[0m                               \u001b[0mverbose_eval\u001b[0m\u001b[0;34m=\u001b[0m\u001b[0mverbose\u001b[0m\u001b[0;34m,\u001b[0m \u001b[0mfeature_name\u001b[0m\u001b[0;34m=\u001b[0m\u001b[0mfeature_name\u001b[0m\u001b[0;34m,\u001b[0m\u001b[0;34m\u001b[0m\u001b[0m\n\u001b[1;32m    479\u001b[0m                               \u001b[0mcategorical_feature\u001b[0m\u001b[0;34m=\u001b[0m\u001b[0mcategorical_feature\u001b[0m\u001b[0;34m,\u001b[0m\u001b[0;34m\u001b[0m\u001b[0m\n\u001b[0;32m--> 480\u001b[0;31m                               callbacks=callbacks)\n\u001b[0m\u001b[1;32m    481\u001b[0m \u001b[0;34m\u001b[0m\u001b[0m\n\u001b[1;32m    482\u001b[0m         \u001b[0;32mif\u001b[0m \u001b[0mevals_result\u001b[0m\u001b[0;34m:\u001b[0m\u001b[0;34m\u001b[0m\u001b[0m\n",
      "\u001b[0;32m/usr/local/lib/python3.6/site-packages/lightgbm/engine.py\u001b[0m in \u001b[0;36mtrain\u001b[0;34m(params, train_set, num_boost_round, valid_sets, valid_names, fobj, feval, init_model, feature_name, categorical_feature, early_stopping_rounds, evals_result, verbose_eval, learning_rates, keep_training_booster, callbacks)\u001b[0m\n\u001b[1;32m    207\u001b[0m                                     evaluation_result_list=None))\n\u001b[1;32m    208\u001b[0m \u001b[0;34m\u001b[0m\u001b[0m\n\u001b[0;32m--> 209\u001b[0;31m         \u001b[0mbooster\u001b[0m\u001b[0;34m.\u001b[0m\u001b[0mupdate\u001b[0m\u001b[0;34m(\u001b[0m\u001b[0mfobj\u001b[0m\u001b[0;34m=\u001b[0m\u001b[0mfobj\u001b[0m\u001b[0;34m)\u001b[0m\u001b[0;34m\u001b[0m\u001b[0m\n\u001b[0m\u001b[1;32m    210\u001b[0m \u001b[0;34m\u001b[0m\u001b[0m\n\u001b[1;32m    211\u001b[0m         \u001b[0mevaluation_result_list\u001b[0m \u001b[0;34m=\u001b[0m \u001b[0;34m[\u001b[0m\u001b[0;34m]\u001b[0m\u001b[0;34m\u001b[0m\u001b[0m\n",
      "\u001b[0;32m/usr/local/lib/python3.6/site-packages/lightgbm/basic.py\u001b[0m in \u001b[0;36mupdate\u001b[0;34m(self, train_set, fobj)\u001b[0m\n\u001b[1;32m   1571\u001b[0m             _safe_call(_LIB.LGBM_BoosterUpdateOneIter(\n\u001b[1;32m   1572\u001b[0m                 \u001b[0mself\u001b[0m\u001b[0;34m.\u001b[0m\u001b[0mhandle\u001b[0m\u001b[0;34m,\u001b[0m\u001b[0;34m\u001b[0m\u001b[0m\n\u001b[0;32m-> 1573\u001b[0;31m                 ctypes.byref(is_finished)))\n\u001b[0m\u001b[1;32m   1574\u001b[0m             \u001b[0mself\u001b[0m\u001b[0;34m.\u001b[0m\u001b[0m__is_predicted_cur_iter\u001b[0m \u001b[0;34m=\u001b[0m \u001b[0;34m[\u001b[0m\u001b[0;32mFalse\u001b[0m \u001b[0;32mfor\u001b[0m \u001b[0m_\u001b[0m \u001b[0;32min\u001b[0m \u001b[0mrange_\u001b[0m\u001b[0;34m(\u001b[0m\u001b[0mself\u001b[0m\u001b[0;34m.\u001b[0m\u001b[0m__num_dataset\u001b[0m\u001b[0;34m)\u001b[0m\u001b[0;34m]\u001b[0m\u001b[0;34m\u001b[0m\u001b[0m\n\u001b[1;32m   1575\u001b[0m             \u001b[0;32mreturn\u001b[0m \u001b[0mis_finished\u001b[0m\u001b[0;34m.\u001b[0m\u001b[0mvalue\u001b[0m \u001b[0;34m==\u001b[0m \u001b[0;36m1\u001b[0m\u001b[0;34m\u001b[0m\u001b[0m\n",
      "\u001b[0;31mKeyboardInterrupt\u001b[0m: "
     ]
    }
   ],
   "source": [
    "kfold_lightgbm(application_train,application_test,num_folds=5,submission_file_name = \"submission6.csv\")"
   ]
  }
 ],
 "metadata": {
  "kernelspec": {
   "display_name": "Python 3",
   "language": "python",
   "name": "python3"
  },
  "language_info": {
   "codemirror_mode": {
    "name": "ipython",
    "version": 3
   },
   "file_extension": ".py",
   "mimetype": "text/x-python",
   "name": "python",
   "nbconvert_exporter": "python",
   "pygments_lexer": "ipython3",
   "version": "3.6.5"
  }
 },
 "nbformat": 4,
 "nbformat_minor": 2
}
