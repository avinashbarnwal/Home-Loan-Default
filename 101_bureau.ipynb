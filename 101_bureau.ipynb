{
 "cells": [
  {
   "cell_type": "code",
   "execution_count": 1,
   "metadata": {},
   "outputs": [],
   "source": [
    "import pandas as pd\n",
    "import numpy as np\n",
    "import gc\n",
    "\n",
    "buro_bal = pd.read_pickle(\"buro_bal.p\")\n",
    "bureau   = pd.read_pickle(\"bureau.p\")"
   ]
  },
  {
   "cell_type": "code",
   "execution_count": 2,
   "metadata": {},
   "outputs": [],
   "source": [
    "ID = bureau['SK_ID_CURR'].unique()\n",
    "data_base = pd.DataFrame()\n",
    "data_base['SK_ID_CURR'] = ID"
   ]
  },
  {
   "cell_type": "code",
   "execution_count": 3,
   "metadata": {},
   "outputs": [],
   "source": [
    "#Write Off Data\n",
    "write_off = buro_bal[buro_bal['STATUS']=='5']\n",
    "write_off = write_off.sort_values(['SK_ID_BUREAU','MONTHS_BALANCE'])\n",
    "write_off = write_off.drop_duplicates(['SK_ID_BUREAU'],keep='last')"
   ]
  },
  {
   "cell_type": "code",
   "execution_count": 4,
   "metadata": {},
   "outputs": [],
   "source": [
    "write_off = pd.merge(write_off,bureau[['SK_ID_BUREAU','SK_ID_CURR','CREDIT_TYPE_OVERALL','AMT_CREDIT_SUM','AMT_CREDIT_MAX_OVERDUE','AMT_CREDIT_SUM_DEBT','AMT_CREDIT_SUM_OVERDUE','CREDIT_TYPE']],on = 'SK_ID_BUREAU',how='inner')"
   ]
  },
  {
   "cell_type": "code",
   "execution_count": 5,
   "metadata": {},
   "outputs": [],
   "source": [
    "def write_off_count(filter_type=None,data=None,original_data=None,new_varname = None):\n",
    "    if filter_type is not None :\n",
    "        temp_series = original_data[(original_data[\"CREDIT_TYPE_OVERALL\"] == filter_type)].groupby([\"SK_ID_CURR\"]).count().SK_ID_BUREAU\n",
    "        data_count  = pd.DataFrame()\n",
    "        data_count  = pd.DataFrame({'SK_ID_CURR':temp_series.index, new_varname:temp_series.values})\n",
    "        Summerized_data = data.merge(data_count,how=\"left\")\n",
    "    else :\n",
    "        temp_series = original_data.groupby([\"SK_ID_CURR\"]).count().SK_ID_BUREAU\n",
    "        data_count  = pd.DataFrame()\n",
    "        data_count  = pd.DataFrame({'SK_ID_CURR':temp_series.index, new_varname:temp_series.values})\n",
    "        Summerized_data = data.merge(data_count,how=\"left\")    \n",
    "    return Summerized_data"
   ]
  },
  {
   "cell_type": "code",
   "execution_count": 6,
   "metadata": {},
   "outputs": [],
   "source": [
    "data_base = write_off_count(filter_type=\"Unsecured\",data=data_base,original_data = write_off,new_varname= 'Unsecured_write_off_count')\n",
    "data_base = write_off_count(filter_type=\"Secured\", data=data_base,original_data = write_off,new_varname= 'Secured_write_off_count')\n",
    "data_base = write_off_count(filter_type=\"HL\",data=data_base,original_data = bureau,new_varname= 'HL_write_off_count')\n",
    "data_base = write_off_count(data=data_base,original_data = bureau,new_varname= 'Total_write_off_count')"
   ]
  },
  {
   "cell_type": "code",
   "execution_count": 7,
   "metadata": {},
   "outputs": [],
   "source": [
    "import numpy as np\n",
    "Unsecured_percentile = np.percentile(bureau[bureau['CREDIT_TYPE_OVERALL']=='Unsecured']['AMT_CREDIT_SUM'], np.arange(0, 100, 10)) \n",
    "Secured_percentile   = np.percentile(bureau[bureau['CREDIT_TYPE_OVERALL']=='Secured']['AMT_CREDIT_SUM'], np.arange(0, 100, 10)) # quartiles\n",
    "HL_percentile        = np.percentile(bureau[bureau['CREDIT_TYPE_OVERALL']=='HL']['AMT_CREDIT_SUM'], np.arange(0, 100, 10)) # quartiles\n",
    "Total_percentile     = np.percentile(bureau['AMT_CREDIT_SUM'], np.arange(0, 100, 10))"
   ]
  },
  {
   "cell_type": "code",
   "execution_count": 8,
   "metadata": {},
   "outputs": [],
   "source": [
    "def percentile(x,compare):\n",
    "    if (x <= compare[1]):\n",
    "        val = \"1\"\n",
    "    elif(x  <= compare[2]):\n",
    "        val = \"2\"\n",
    "    elif  x  <= compare[3]:\n",
    "        val = \"3\"\n",
    "    elif  x  <= compare[4]:\n",
    "        val = \"4\"  \n",
    "    elif  x  <= compare[5]:\n",
    "        val = \"5\"\n",
    "    elif  x  <= compare[6]:\n",
    "        val = \"6\"\n",
    "    elif  x  <= compare[7]:\n",
    "        val = \"7\"\n",
    "    elif  x  <= compare[8]:\n",
    "        val = \"8\" \n",
    "    elif  x  <= compare[9]:\n",
    "        val = \"9\"     \n",
    "    else:\n",
    "        val = \"10\"\n",
    "    return val"
   ]
  },
  {
   "cell_type": "code",
   "execution_count": 9,
   "metadata": {},
   "outputs": [],
   "source": [
    "bureau['Unsecured_HCR_Tag'] = bureau[bureau['CREDIT_TYPE_OVERALL']=='Unsecured']['AMT_CREDIT_SUM'].apply(lambda x: percentile(x, Unsecured_percentile))\n",
    "bureau['Secured_HCR_Tag']   = bureau[bureau['CREDIT_TYPE_OVERALL']=='Secured']['AMT_CREDIT_SUM'].apply(lambda x: percentile(x, Secured_percentile))\n",
    "bureau['HL_HCR_Tag']        = bureau[bureau['CREDIT_TYPE_OVERALL']=='HL']['AMT_CREDIT_SUM'].apply(lambda x: percentile(x, HL_percentile))\n",
    "bureau['Total_HCR_Tag']     = bureau['AMT_CREDIT_SUM'].apply(lambda x: percentile(x, Total_percentile))"
   ]
  },
  {
   "cell_type": "code",
   "execution_count": 10,
   "metadata": {},
   "outputs": [],
   "source": [
    "bureau = pd.get_dummies(bureau,columns=['Unsecured_HCR_Tag'])"
   ]
  },
  {
   "cell_type": "code",
   "execution_count": 11,
   "metadata": {},
   "outputs": [],
   "source": [
    "bureau = pd.get_dummies(bureau,columns=['Secured_HCR_Tag'])\n",
    "bureau = pd.get_dummies(bureau,columns=['HL_HCR_Tag'])\n",
    "bureau = pd.get_dummies(bureau,columns=['Total_HCR_Tag'])"
   ]
  },
  {
   "cell_type": "code",
   "execution_count": 12,
   "metadata": {},
   "outputs": [],
   "source": [
    "def HCR_trade(column = None,data=None,original_data=None,new_varname = None):\n",
    "    temp_series = original_data.groupby([\"SK_ID_CURR\"])[column].sum()\n",
    "    data_count  = pd.DataFrame()\n",
    "    data_count  = pd.DataFrame({'SK_ID_CURR':temp_series.index, new_varname:temp_series.values})\n",
    "    Summerized_data = data.merge(data_count,how=\"left\")\n",
    "    return Summerized_data"
   ]
  },
  {
   "cell_type": "code",
   "execution_count": 13,
   "metadata": {},
   "outputs": [],
   "source": [
    "columns = list(bureau.columns.values)\n",
    "col = [col for col in columns if 'Tag' in col]"
   ]
  },
  {
   "cell_type": "code",
   "execution_count": 14,
   "metadata": {},
   "outputs": [],
   "source": [
    "n = len(col)\n",
    "\n",
    "for i in range(n):\n",
    "    data_base = HCR_trade(column = col[i],data = data_base,original_data = bureau,new_varname=col[i])"
   ]
  },
  {
   "cell_type": "code",
   "execution_count": 15,
   "metadata": {},
   "outputs": [],
   "source": [
    "columns_base = list(data_base.columns.values)\n",
    "\n",
    "col_delq = [col for col in columns_base if 'delq' in col]\n",
    "col_time = [col for col in columns_base if 'time' in col]\n",
    "col_tag  = [col for col in columns_base if 'Tag' in col]\n",
    "col_count  = [col for col in columns_base if 'count' in col]"
   ]
  },
  {
   "cell_type": "code",
   "execution_count": 16,
   "metadata": {},
   "outputs": [],
   "source": [
    "for c in col_delq:\n",
    "    data_base[c] = data_base[c].fillna(-99999)\n",
    "    \n",
    "for c in col_time:\n",
    "    data_base[c] = data_base[c].fillna(-99999)\n",
    "    \n",
    "for c in col_tag:\n",
    "    data_base[c] = data_base[c].fillna(0)\n",
    "    \n",
    "for c in col_count:\n",
    "    data_base[c] = data_base[c].fillna(0)    "
   ]
  },
  {
   "cell_type": "code",
   "execution_count": 17,
   "metadata": {},
   "outputs": [],
   "source": [
    "data_base.to_pickle(\"bureau_2.p\")"
   ]
  }
 ],
 "metadata": {
  "kernelspec": {
   "display_name": "Python 3",
   "language": "python",
   "name": "python3"
  },
  "language_info": {
   "codemirror_mode": {
    "name": "ipython",
    "version": 3
   },
   "file_extension": ".py",
   "mimetype": "text/x-python",
   "name": "python",
   "nbconvert_exporter": "python",
   "pygments_lexer": "ipython3",
   "version": "3.6.5"
  }
 },
 "nbformat": 4,
 "nbformat_minor": 2
}
