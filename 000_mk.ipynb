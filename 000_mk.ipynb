{
 "cells": [
  {
   "cell_type": "code",
   "execution_count": 1,
   "metadata": {},
   "outputs": [],
   "source": [
    "import pandas as pd\n",
    "application_train = pd.read_csv('input/application_train.csv')\n",
    "application_test  = pd.read_csv('input/application_test.csv')\n",
    "bureau            = pd.read_csv('input/bureau.csv')\n",
    "buro_bal          = pd.read_csv('input/bureau_balance.csv')"
   ]
  },
  {
   "cell_type": "code",
   "execution_count": 2,
   "metadata": {},
   "outputs": [],
   "source": [
    "##Missing Value Treatment\n",
    "import numpy as np\n",
    "application_train['AMT_GOODS_PRICE']          = application_train['AMT_GOODS_PRICE'].fillna(np.nanmedian(application_train['AMT_GOODS_PRICE']))\n",
    "application_train['NAME_TYPE_SUITE']          = application_train['NAME_TYPE_SUITE'].fillna(application_train['NAME_TYPE_SUITE'].mode()[0])\n",
    "application_train['CNT_FAM_MEMBERS']          = application_train['CNT_FAM_MEMBERS'].fillna(np.nanmedian(application_train['CNT_FAM_MEMBERS']))\n",
    "application_train['OBS_30_CNT_SOCIAL_CIRCLE'] = application_train['OBS_30_CNT_SOCIAL_CIRCLE'].fillna(np.nanmedian(application_train['OBS_30_CNT_SOCIAL_CIRCLE']))\n",
    "application_train['DEF_30_CNT_SOCIAL_CIRCLE'] = application_train['DEF_30_CNT_SOCIAL_CIRCLE'].fillna(np.nanmedian(application_train['DEF_30_CNT_SOCIAL_CIRCLE']))\n",
    "application_train['DEF_60_CNT_SOCIAL_CIRCLE'] = application_train['DEF_60_CNT_SOCIAL_CIRCLE'].fillna(np.nanmedian(application_train['DEF_60_CNT_SOCIAL_CIRCLE']))\n",
    "application_train['DAYS_LAST_PHONE_CHANGE']   = application_train['DAYS_LAST_PHONE_CHANGE'].fillna(np.nanmedian(application_train['DAYS_LAST_PHONE_CHANGE']))"
   ]
  },
  {
   "cell_type": "code",
   "execution_count": 3,
   "metadata": {},
   "outputs": [],
   "source": [
    "col = ['SK_ID_CURR','TARGET','NAME_CONTRACT_TYPE','CODE_GENDER','FLAG_OWN_CAR','FLAG_OWN_REALTY','CNT_CHILDREN','AMT_INCOME_TOTAL','AMT_CREDIT','AMT_ANNUITY','AMT_GOODS_PRICE','NAME_TYPE_SUITE','NAME_INCOME_TYPE','NAME_EDUCATION_TYPE','NAME_FAMILY_STATUS','NAME_HOUSING_TYPE','REGION_POPULATION_RELATIVE','DAYS_BIRTH','DAYS_EMPLOYED','DAYS_REGISTRATION','DAYS_ID_PUBLISH','FLAG_MOBIL','FLAG_EMP_PHONE','FLAG_WORK_PHONE','FLAG_CONT_MOBILE','FLAG_PHONE','FLAG_EMAIL','CNT_FAM_MEMBERS','REGION_RATING_CLIENT','REGION_RATING_CLIENT_W_CITY','WEEKDAY_APPR_PROCESS_START','HOUR_APPR_PROCESS_START','REG_REGION_NOT_LIVE_REGION','REG_REGION_NOT_WORK_REGION','LIVE_REGION_NOT_WORK_REGION','REG_CITY_NOT_LIVE_CITY','REG_CITY_NOT_WORK_CITY','LIVE_CITY_NOT_WORK_CITY','ORGANIZATION_TYPE','OBS_30_CNT_SOCIAL_CIRCLE','DEF_30_CNT_SOCIAL_CIRCLE','OBS_60_CNT_SOCIAL_CIRCLE','DEF_60_CNT_SOCIAL_CIRCLE','DAYS_LAST_PHONE_CHANGE','FLAG_DOCUMENT_2','FLAG_DOCUMENT_3','FLAG_DOCUMENT_4','FLAG_DOCUMENT_5','FLAG_DOCUMENT_6','FLAG_DOCUMENT_7','FLAG_DOCUMENT_8','FLAG_DOCUMENT_9','FLAG_DOCUMENT_10','FLAG_DOCUMENT_11','FLAG_DOCUMENT_12','FLAG_DOCUMENT_13','FLAG_DOCUMENT_14','FLAG_DOCUMENT_15','FLAG_DOCUMENT_16','FLAG_DOCUMENT_17','FLAG_DOCUMENT_18','FLAG_DOCUMENT_19','FLAG_DOCUMENT_20','FLAG_DOCUMENT_21']"
   ]
  },
  {
   "cell_type": "code",
   "execution_count": 4,
   "metadata": {},
   "outputs": [],
   "source": [
    "application_train = application_train[col]"
   ]
  },
  {
   "cell_type": "code",
   "execution_count": 6,
   "metadata": {},
   "outputs": [],
   "source": [
    "cat_col = ['NAME_CONTRACT_TYPE','CODE_GENDER','FLAG_OWN_CAR','FLAG_OWN_REALTY','NAME_INCOME_TYPE','NAME_EDUCATION_TYPE',\n",
    "          'NAME_FAMILY_STATUS','NAME_HOUSING_TYPE','WEEKDAY_APPR_PROCESS_START','ORGANIZATION_TYPE','NAME_TYPE_SUITE']"
   ]
  },
  {
   "cell_type": "code",
   "execution_count": 7,
   "metadata": {},
   "outputs": [],
   "source": [
    "application_train = pd.get_dummies(application_train, columns=cat_col)"
   ]
  },
  {
   "cell_type": "code",
   "execution_count": 8,
   "metadata": {},
   "outputs": [],
   "source": [
    "application_train['DAYS_EMPLOYED_PERC']  = application_train['DAYS_EMPLOYED'] / application_train['DAYS_BIRTH']\n",
    "application_train['INCOME_CREDIT_PERC']  = application_train['AMT_INCOME_TOTAL'] / application_train['AMT_CREDIT']\n",
    "application_train['INCOME_PER_PERSON']   = application_train['AMT_INCOME_TOTAL'] / application_train['CNT_FAM_MEMBERS']\n",
    "application_train['ANNUITY_INCOME_PERC'] = application_train['AMT_ANNUITY'] / application_train['AMT_INCOME_TOTAL']\n",
    "application_train['PAYMENT_RATE']        = application_train['AMT_ANNUITY'] / application_train['AMT_CREDIT']"
   ]
  },
  {
   "cell_type": "code",
   "execution_count": 9,
   "metadata": {},
   "outputs": [],
   "source": [
    "col.remove('TARGET')\n",
    "application_test = application_test[col]"
   ]
  },
  {
   "cell_type": "code",
   "execution_count": 10,
   "metadata": {},
   "outputs": [],
   "source": [
    "##Missing Value Treatment\n",
    "import numpy as np\n",
    "application_test['AMT_GOODS_PRICE']           = application_test['AMT_GOODS_PRICE'].fillna(np.nanmedian(application_test['AMT_GOODS_PRICE']))\n",
    "application_test['NAME_TYPE_SUITE']           = application_test['NAME_TYPE_SUITE'].fillna(application_test['NAME_TYPE_SUITE'].mode()[0])\n",
    "application_test['CNT_FAM_MEMBERS']           = application_test['CNT_FAM_MEMBERS'].fillna(np.nanmedian(application_test['CNT_FAM_MEMBERS']))\n",
    "application_test['OBS_30_CNT_SOCIAL_CIRCLE']  = application_test['OBS_30_CNT_SOCIAL_CIRCLE'].fillna(np.nanmedian(application_test['OBS_30_CNT_SOCIAL_CIRCLE']))\n",
    "application_test['DEF_30_CNT_SOCIAL_CIRCLE']  = application_test['DEF_30_CNT_SOCIAL_CIRCLE'].fillna(np.nanmedian(application_test['DEF_30_CNT_SOCIAL_CIRCLE']))\n",
    "application_test['DEF_60_CNT_SOCIAL_CIRCLE']  = application_test['DEF_60_CNT_SOCIAL_CIRCLE'].fillna(np.nanmedian(application_test['DEF_60_CNT_SOCIAL_CIRCLE']))\n",
    "application_test['DAYS_LAST_PHONE_CHANGE']    = application_test['DAYS_LAST_PHONE_CHANGE'].fillna(np.nanmedian(application_test['DAYS_LAST_PHONE_CHANGE']))"
   ]
  },
  {
   "cell_type": "code",
   "execution_count": 11,
   "metadata": {},
   "outputs": [],
   "source": [
    "application_test = pd.get_dummies(application_test, columns=cat_col)"
   ]
  },
  {
   "cell_type": "code",
   "execution_count": 12,
   "metadata": {},
   "outputs": [],
   "source": [
    "application_test['DAYS_EMPLOYED_PERC']  = application_test['DAYS_EMPLOYED'] / application_test['DAYS_BIRTH']\n",
    "application_test['INCOME_CREDIT_PERC']  = application_test['AMT_INCOME_TOTAL'] / application_test['AMT_CREDIT']\n",
    "application_test['INCOME_PER_PERSON']   = application_test['AMT_INCOME_TOTAL'] / application_test['CNT_FAM_MEMBERS']\n",
    "application_test['ANNUITY_INCOME_PERC'] = application_test['AMT_ANNUITY'] / application_test['AMT_INCOME_TOTAL']\n",
    "application_test['PAYMENT_RATE']        = application_test['AMT_ANNUITY'] / application_test['AMT_CREDIT']"
   ]
  },
  {
   "cell_type": "code",
   "execution_count": 13,
   "metadata": {},
   "outputs": [],
   "source": [
    "bureau['AMT_CREDIT_SUM']   = bureau['AMT_CREDIT_SUM'].fillna(np.nanmedian(bureau['AMT_CREDIT_SUM']))\n",
    "bureau['DAYS_CREDIT']      = -1*bureau['DAYS_CREDIT']\n",
    "buro_bal['MONTHS_BALANCE'] = -1*buro_bal['MONTHS_BALANCE']"
   ]
  },
  {
   "cell_type": "code",
   "execution_count": 14,
   "metadata": {},
   "outputs": [],
   "source": [
    "def credit_type(row):\n",
    "    if row['CREDIT_TYPE'] in ['Consumer credit','Credit card',\n",
    "                              'Microloan' ,'Loan for business development',\n",
    "                              'Another type of loan', 'Unknown type of loan',\n",
    "                              'Loan for working capital replenishment',            \n",
    "                              'Cash loan (non-earmarked)', 'Loan for purchase of shares (margin lending)',\n",
    "                              'Interbank credit','Mobile operator loan']:\n",
    "        val = 'Unsecured'\n",
    "    elif row['CREDIT_TYPE'] in ['Car loan','Loan for the purchase of equipment']:\n",
    "        val = 'Secured'\n",
    "    elif row['CREDIT_TYPE'] in ['Mortgage','Real estate loan']:\n",
    "        val = 'HL'\n",
    "    return val"
   ]
  },
  {
   "cell_type": "code",
   "execution_count": 15,
   "metadata": {},
   "outputs": [],
   "source": [
    "bureau['CREDIT_TYPE_OVERALL'] = bureau.apply(credit_type, axis=1)"
   ]
  },
  {
   "cell_type": "code",
   "execution_count": 16,
   "metadata": {},
   "outputs": [],
   "source": [
    "buro_bal.to_pickle(\"buro_bal.p\")\n",
    "bureau.to_pickle(\"bureau.p\")\n",
    "application_train.to_pickle(\"application_train.p\")\n",
    "application_test.to_pickle(\"application_test.p\")"
   ]
  }
 ],
 "metadata": {
  "kernelspec": {
   "display_name": "Python 3",
   "language": "python",
   "name": "python3"
  },
  "language_info": {
   "codemirror_mode": {
    "name": "ipython",
    "version": 3
   },
   "file_extension": ".py",
   "mimetype": "text/x-python",
   "name": "python",
   "nbconvert_exporter": "python",
   "pygments_lexer": "ipython3",
   "version": "3.6.5"
  }
 },
 "nbformat": 4,
 "nbformat_minor": 2
}
